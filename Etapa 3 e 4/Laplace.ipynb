{
 "cells": [
  {
   "cell_type": "code",
   "execution_count": 1,
   "metadata": {},
   "outputs": [],
   "source": [
    "def laplace (frase,tabela_rel, tabela_irrel,nao_repetentes,len_rel,len_irrel):\n",
    "    #Definindo lista de probabilidades\n",
    "    probR_list=[]\n",
    "    probIr_list=[]\n",
    "    #Separando a Frase em elementos\n",
    "    splt = frase.split()\n",
    "    #For para reconhecer a quantidade \n",
    "    for palavra in splt:\n",
    "        if palavra not in tabela_rel:\n",
    "            qtR = 1\n",
    "        else:\n",
    "            qtR = tabela_rel[palavra] + 1\n",
    "        if palavra not in tabela_irrel:\n",
    "            qtIr = 1\n",
    "        else:\n",
    "            qtIr = tabela_irrel[palavra] + 1\n",
    "        #Definindo divisores\n",
    "        div1 = len_rel + len(nao_repetentes)\n",
    "        div2 = len_irrel + len(nao_repetentes)\n",
    "        #CCalculo de Laplace\n",
    "        probR_list.append(qtR/div1)\n",
    "        probIr_list.append(qtIr/div2)\n",
    "    return (probR_list,probIr_list)"
   ]
  },
  {
   "cell_type": "code",
   "execution_count": null,
   "metadata": {},
   "outputs": [],
   "source": []
  },
  {
   "cell_type": "code",
   "execution_count": null,
   "metadata": {},
   "outputs": [],
   "source": []
  }
 ],
 "metadata": {
  "kernelspec": {
   "display_name": "Python 3",
   "language": "python",
   "name": "python3"
  },
  "language_info": {
   "codemirror_mode": {
    "name": "ipython",
    "version": 3
   },
   "file_extension": ".py",
   "mimetype": "text/x-python",
   "name": "python",
   "nbconvert_exporter": "python",
   "pygments_lexer": "ipython3",
   "version": "3.8.5"
  }
 },
 "nbformat": 4,
 "nbformat_minor": 4
}
