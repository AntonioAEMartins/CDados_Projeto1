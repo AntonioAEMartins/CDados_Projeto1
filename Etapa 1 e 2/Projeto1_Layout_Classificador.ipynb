{
 "cells": [
  {
   "cell_type": "markdown",
   "metadata": {},
   "source": [
    "# Projeto 1 - Ciência dos Dados"
   ]
  },
  {
   "cell_type": "markdown",
   "metadata": {},
   "source": [
    "Nome: Antônio Amaral\n",
    "\n",
    "Nome: Gabriel Penna\n",
    "\n",
    "Nome: Caio Garcia"
   ]
  },
  {
   "cell_type": "markdown",
   "metadata": {},
   "source": [
    "Atenção: Serão permitidos grupos de três pessoas, mas com uma rubrica mais exigente. Grupos deste tamanho precisarão fazer um questionário de avaliação de trabalho em equipe"
   ]
  },
  {
   "cell_type": "markdown",
   "metadata": {},
   "source": [
    "___\n",
    "Carregando algumas bibliotecas:"
   ]
  },
  {
   "cell_type": "code",
   "execution_count": 289,
   "metadata": {},
   "outputs": [],
   "source": [
    "#Definindo Função Magica iPython\n",
    "%matplotlib inline\n",
    "#Importanto Pandas\n",
    "import pandas as pd\n",
    "#Importando MatPlotLib e Numpy\n",
    "import matplotlib.pyplot as plt\n",
    "import numpy as np\n",
    "#Importando Sistema Operacional\n",
    "import os\n",
    "#Importando RE\n",
    "import re"
   ]
  },
  {
   "cell_type": "code",
   "execution_count": 290,
   "metadata": {
    "scrolled": false
   },
   "outputs": [
    {
     "name": "stdout",
     "output_type": "stream",
     "text": [
      "Esperamos trabalhar no diretório\n",
      "/Users/antonioamaralegydiomartins/Desktop/Antônio/GitHub - Pessoal/INSPER/CDados_Projeto1/Etapa 1 e 2\n"
     ]
    }
   ],
   "source": [
    "#Checando Diretório que será trabalhado:\n",
    "print('Esperamos trabalhar no diretório')\n",
    "print(os.getcwd())"
   ]
  },
  {
   "cell_type": "markdown",
   "metadata": {},
   "source": [
    "## Formulas Utilizadas:"
   ]
  },
  {
   "cell_type": "code",
   "execution_count": 291,
   "metadata": {},
   "outputs": [],
   "source": [
    "def laplace (frase,tabela_rel, tabela_irrel,nao_repetentes,len_rel,len_irrel):\n",
    "    #Definindo lista de probabilidades\n",
    "    probR_list=[]\n",
    "    probIr_list=[]\n",
    "    #Separando a Frase em elementos\n",
    "    splt = frase.split()\n",
    "    #For para reconhecer a quantidade \n",
    "    for palavra in splt:\n",
    "        if palavra not in tabela_rel:\n",
    "            qtR = 1\n",
    "        else:\n",
    "            qtR = tabela_rel[palavra] + 1\n",
    "        if palavra not in tabela_irrel:\n",
    "            qtIr = 1\n",
    "        else:\n",
    "            qtIr = tabela_irrel[palavra] + 1\n",
    "        #Definindo divisores\n",
    "        div1 = len_rel + len(nao_repetentes)\n",
    "        div2 = len_irrel + len(nao_repetentes)\n",
    "        #CCalculo de Laplace\n",
    "        probR_list.append(qtR/div1)\n",
    "        probIr_list.append(qtIr/div2)\n",
    "    return (probR_list,probIr_list)\n",
    "\n",
    "def cleanup(texto):\n",
    "\n",
    "    temp = texto.lower()\n",
    "\n",
    "    temp = re.sub(\"@[A-Za-z0-9_]+\",\"\", temp)\n",
    "\n",
    "    temp = re.sub(\"#[A-Za-z0-9_]+\",\"\", temp)\n",
    "\n",
    "    temp = re.sub(r'http\\S+', '', temp)\n",
    "\n",
    "    temp = re.sub('[()!?ㅋ;:,/^~♂️*=&-]', ' ', temp)\n",
    "\n",
    "    temp = re.sub('\\[.*?\\]',' ', temp)\n",
    "\n",
    "    temp = re.sub(\"[z0-9]\",\" \", temp)\n",
    "\n",
    "    temp = re.sub('\\\\\\\\\\\\\\\\n',\" \", temp)\n",
    "\n",
    "    temp = re.sub('\\\\\\\\',\" \", temp)\n",
    "\n",
    "    temp = re.sub('\\ ',\" \", temp)\n",
    "    \n",
    "    temp = re.sub(\"é\",\"e\",temp)\n",
    "    \n",
    "    temp = re.sub(\"ã\",\"a\",temp)\n",
    "\n",
    "    return temp"
   ]
  },
  {
   "cell_type": "markdown",
   "metadata": {},
   "source": [
    "## Carregando Arquivos"
   ]
  },
  {
   "cell_type": "code",
   "execution_count": 292,
   "metadata": {},
   "outputs": [],
   "source": [
    "#Definindo Arquivo que será trabalhado\n",
    "filename = 'yakult-final_2.xlsx'"
   ]
  },
  {
   "cell_type": "code",
   "execution_count": 293,
   "metadata": {},
   "outputs": [
    {
     "data": {
      "text/html": [
       "<div>\n",
       "<style scoped>\n",
       "    .dataframe tbody tr th:only-of-type {\n",
       "        vertical-align: middle;\n",
       "    }\n",
       "\n",
       "    .dataframe tbody tr th {\n",
       "        vertical-align: top;\n",
       "    }\n",
       "\n",
       "    .dataframe thead th {\n",
       "        text-align: right;\n",
       "    }\n",
       "</style>\n",
       "<table border=\"1\" class=\"dataframe\">\n",
       "  <thead>\n",
       "    <tr style=\"text-align: right;\">\n",
       "      <th></th>\n",
       "      <th>Treinamento</th>\n",
       "      <th>Classificação</th>\n",
       "      <th>Classificação 2</th>\n",
       "    </tr>\n",
       "  </thead>\n",
       "  <tbody>\n",
       "    <tr>\n",
       "      <th>0</th>\n",
       "      <td>@colchoesueli a médica passou lactobacilos p...</td>\n",
       "      <td>1.0</td>\n",
       "      <td>2.0</td>\n",
       "    </tr>\n",
       "    <tr>\n",
       "      <th>1</th>\n",
       "      <td>alguém compra yakult pra mim por deus</td>\n",
       "      <td>0.0</td>\n",
       "      <td>3.0</td>\n",
       "    </tr>\n",
       "    <tr>\n",
       "      <th>2</th>\n",
       "      <td>amanhã vou fazer aquele drink de morango, ...</td>\n",
       "      <td>0.0</td>\n",
       "      <td>2.0</td>\n",
       "    </tr>\n",
       "    <tr>\n",
       "      <th>3</th>\n",
       "      <td>tomando um yakult no meio da rua 💪</td>\n",
       "      <td>1.0</td>\n",
       "      <td>3.0</td>\n",
       "    </tr>\n",
       "    <tr>\n",
       "      <th>4</th>\n",
       "      <td>48 horas e estou sobrevivendo com;\\\\\\\\nmei...</td>\n",
       "      <td>1.0</td>\n",
       "      <td>1.0</td>\n",
       "    </tr>\n",
       "  </tbody>\n",
       "</table>\n",
       "</div>"
      ],
      "text/plain": [
       "                                         Treinamento  Classificação  \\\n",
       "0    @colchoesueli a médica passou lactobacilos p...            1.0   \n",
       "1            alguém compra yakult pra mim por deus              0.0   \n",
       "2      amanhã vou fazer aquele drink de morango, ...            0.0   \n",
       "3                tomando um yakult no meio da rua 💪             1.0   \n",
       "4      48 horas e estou sobrevivendo com;\\\\\\\\nmei...            1.0   \n",
       "\n",
       "   Classificação 2  \n",
       "0              2.0  \n",
       "1              3.0  \n",
       "2              2.0  \n",
       "3              3.0  \n",
       "4              1.0  "
      ]
     },
     "execution_count": 293,
     "metadata": {},
     "output_type": "execute_result"
    }
   ],
   "source": [
    "#Carregando Excel dentro da Variável Trainamento\n",
    "train = pd.read_excel(filename)\n",
    "train.head(5)"
   ]
  },
  {
   "cell_type": "code",
   "execution_count": 296,
   "metadata": {},
   "outputs": [
    {
     "data": {
      "text/html": [
       "<div>\n",
       "<style scoped>\n",
       "    .dataframe tbody tr th:only-of-type {\n",
       "        vertical-align: middle;\n",
       "    }\n",
       "\n",
       "    .dataframe tbody tr th {\n",
       "        vertical-align: top;\n",
       "    }\n",
       "\n",
       "    .dataframe thead th {\n",
       "        text-align: right;\n",
       "    }\n",
       "</style>\n",
       "<table border=\"1\" class=\"dataframe\">\n",
       "  <thead>\n",
       "    <tr style=\"text-align: right;\">\n",
       "      <th></th>\n",
       "      <th>Teste</th>\n",
       "      <th>Classificação</th>\n",
       "      <th>Classificação2</th>\n",
       "    </tr>\n",
       "  </thead>\n",
       "  <tbody>\n",
       "    <tr>\n",
       "      <th>0</th>\n",
       "      <td>@otavio_amaral18 é uma delícia juro, desce...</td>\n",
       "      <td>1</td>\n",
       "      <td>3</td>\n",
       "    </tr>\n",
       "    <tr>\n",
       "      <th>1</th>\n",
       "      <td>o cérebro é muito impressionante, ontem eu...</td>\n",
       "      <td>1</td>\n",
       "      <td>4</td>\n",
       "    </tr>\n",
       "    <tr>\n",
       "      <th>2</th>\n",
       "      <td>@fenicolli02 quem q pede gole do yakult???...</td>\n",
       "      <td>0</td>\n",
       "      <td>0</td>\n",
       "    </tr>\n",
       "    <tr>\n",
       "      <th>3</th>\n",
       "      <td>@thamaramaia5 @adrianommartins @taaayrd @t...</td>\n",
       "      <td>0</td>\n",
       "      <td>2</td>\n",
       "    </tr>\n",
       "    <tr>\n",
       "      <th>4</th>\n",
       "      <td>sdds das mamis juntas brindando yakult @fe...</td>\n",
       "      <td>0</td>\n",
       "      <td>2</td>\n",
       "    </tr>\n",
       "  </tbody>\n",
       "</table>\n",
       "</div>"
      ],
      "text/plain": [
       "                                               Teste  Classificação  \\\n",
       "0      @otavio_amaral18 é uma delícia juro, desce...              1   \n",
       "1      o cérebro é muito impressionante, ontem eu...              1   \n",
       "2      @fenicolli02 quem q pede gole do yakult???...              0   \n",
       "3      @thamaramaia5 @adrianommartins @taaayrd @t...              0   \n",
       "4      sdds das mamis juntas brindando yakult @fe...              0   \n",
       "\n",
       "   Classificação2  \n",
       "0               3  \n",
       "1               4  \n",
       "2               0  \n",
       "3               2  \n",
       "4               2  "
      ]
     },
     "execution_count": 296,
     "metadata": {},
     "output_type": "execute_result"
    }
   ],
   "source": [
    "#Carregando Excel dentro da Variável Teste\n",
    "test = pd.read_excel(filename, sheet_name = 'Teste')\n",
    "test.head(5)"
   ]
  },
  {
   "cell_type": "markdown",
   "metadata": {},
   "source": [
    "## Treinamento Naive-Bayles --- Classificador Automático de Sentimento"
   ]
  },
  {
   "cell_type": "markdown",
   "metadata": {},
   "source": [
    "Faça aqui uma descrição do seu produto e o que considerou como relevante ou não relevante na classificação dos tweets.\n",
    "\n",
    "O produto que foi escolhido para ser analizado foi o yakult, a famosa bebida fermentada japonesa, o grupo levou em consideração a emissão de opinião na hora de montar o seu classificador. Sendo assim se houve a emissão de uma uma opinião, sendo benéfica ou não, o Tweet é considerado relevante, porém se houver a emissão de uma opinião que não corresponde ao produto, ou não houve a emissão de uma opinião o Tweet é considerado irrelevante."
   ]
  },
  {
   "cell_type": "markdown",
   "metadata": {},
   "source": [
    "___\n",
    "### - Definindo Relevância "
   ]
  },
  {
   "cell_type": "code",
   "execution_count": 297,
   "metadata": {
    "scrolled": true
   },
   "outputs": [
    {
     "data": {
      "text/plain": [
       "1                alguém compra yakult pra mim por deus  \n",
       "2          amanhã vou fazer aquele drink de morango, ...\n",
       "5          @madrugatina sei que vc não bebe, então va...\n",
       "6          meu lindo :( quero ver ele fazendo batida ...\n",
       "7          nadei igual um desgraçado, agora comi bata...\n",
       "                             ...                        \n",
       "486        meu maior sonho atualmente é um yakult veg...\n",
       "487         @sirielleina amiga e um com cor de yakult   \n",
       "492        @bcamoezi esses dias comprei couve, alface...\n",
       "495        ontem eu comi...\\\\\\\\npão na chapa\\\\\\\\nstak...\n",
       "497        ontem eu cheguei de madrugada em casa e fi...\n",
       "Name: Treinamento, Length: 289, dtype: object"
      ]
     },
     "execution_count": 297,
     "metadata": {},
     "output_type": "execute_result"
    }
   ],
   "source": [
    "#Definindo quais são os Tweets com classificação Irrelevante, dentro da Sheet Treinamento\n",
    "Irrelevantes=train.loc[train['Classificação']==0,'Treinamento']\n",
    "Irrelevantes"
   ]
  },
  {
   "cell_type": "code",
   "execution_count": 298,
   "metadata": {},
   "outputs": [
    {
     "data": {
      "text/plain": [
       "0        @colchoesueli a médica passou lactobacilos p...\n",
       "3                    tomando um yakult no meio da rua 💪 \n",
       "4          48 horas e estou sobrevivendo com;\\\\\\\\nmei...\n",
       "14         minha sogra fala mais que a mulher do yaku...\n",
       "15         última coisa q comeu — tomei um yakult de ...\n",
       "                             ...                        \n",
       "490        a garrafinha de yakult é mt pequena, mano,...\n",
       "491          @caarolmario bebida de yakult com corote   \n",
       "493        acabei de ingerir isso aqui, me disseram q...\n",
       "494        bernardo aprendeu a tomar yakult de canudi...\n",
       "496      bolo: red velvet ou chocolate\\\\\\\\ndoce: chee...\n",
       "Name: Treinamento, Length: 209, dtype: object"
      ]
     },
     "execution_count": 298,
     "metadata": {},
     "output_type": "execute_result"
    }
   ],
   "source": [
    "#Definindo quais são os Tweets com classificação Relevante, dentro da Sheet Treinamento\n",
    "Relevantes=train.loc[train['Classificação']==1,'Treinamento']\n",
    "Relevantes"
   ]
  },
  {
   "cell_type": "markdown",
   "metadata": {},
   "source": [
    "___\n",
    "### - Montando um Classificador Naive-Bayes\n",
    "\n",
    "Considerando apenas as mensagens da planilha Treinamento, ensine  seu classificador."
   ]
  },
  {
   "cell_type": "markdown",
   "metadata": {},
   "source": [
    "Criando variáveis e realizando limpeza:"
   ]
  },
  {
   "cell_type": "code",
   "execution_count": 299,
   "metadata": {},
   "outputs": [],
   "source": [
    "#Definindo texto_relevante, como a junção de todos os Tweets relevantes\n",
    "texto_relevante=' '.join(Relevantes)"
   ]
  },
  {
   "cell_type": "code",
   "execution_count": 300,
   "metadata": {},
   "outputs": [],
   "source": [
    "#Definindo texto_irrelevante como a junção de todos os Tweets irrelevantes\n",
    "texto_irrelevante=' '.join(Irrelevantes)"
   ]
  },
  {
   "cell_type": "code",
   "execution_count": 301,
   "metadata": {},
   "outputs": [],
   "source": [
    "#Passando ambos os textos pela função Cleanup, e convertendo todas as letras para Lowercase\n",
    "texto_limpo_relevante=cleanup(texto_relevante).lower()\n",
    "texto_limpo_irrelevante=cleanup(texto_irrelevante).lower()"
   ]
  },
  {
   "cell_type": "markdown",
   "metadata": {},
   "source": [
    "Convertendo as strings limpas em objetos do tipo pd.series:"
   ]
  },
  {
   "cell_type": "code",
   "execution_count": 302,
   "metadata": {},
   "outputs": [],
   "source": [
    "palavras_relevantes = texto_limpo_relevante.split()\n",
    "serie_rel = pd.Series(palavras_relevantes)"
   ]
  },
  {
   "cell_type": "code",
   "execution_count": 303,
   "metadata": {},
   "outputs": [],
   "source": [
    "palavras_irrelevantes = texto_limpo_irrelevante.split()\n",
    "serie_irrel = pd.Series(palavras_irrelevantes)"
   ]
  },
  {
   "cell_type": "markdown",
   "metadata": {},
   "source": [
    "Tornando os objetos transformados acima em series relativas:"
   ]
  },
  {
   "cell_type": "code",
   "execution_count": 304,
   "metadata": {},
   "outputs": [],
   "source": [
    "serie_irel = serie_rel.value_counts(True)"
   ]
  },
  {
   "cell_type": "code",
   "execution_count": 305,
   "metadata": {},
   "outputs": [],
   "source": [
    "serie_rrel = serie_irrel.value_counts(True)"
   ]
  },
  {
   "cell_type": "code",
   "execution_count": 306,
   "metadata": {},
   "outputs": [
    {
     "name": "stdout",
     "output_type": "stream",
     "text": [
      "Porcentagem de Irrelevantes: 1.0 e de Relevantes: 1.0\n"
     ]
    }
   ],
   "source": [
    "#Checando porcentagem das listas\n",
    "print(\"Porcentagem de Irrelevantes: {0} e de Relevantes: {1}\".format(serie_irel.sum(),serie_rrel.sum()))"
   ]
  },
  {
   "cell_type": "markdown",
   "metadata": {},
   "source": [
    "Montando serie com todas as palavras que aparecem em todos os Tweets:"
   ]
  },
  {
   "cell_type": "code",
   "execution_count": 307,
   "metadata": {},
   "outputs": [],
   "source": [
    "tabela_rel = serie_rel.value_counts()"
   ]
  },
  {
   "cell_type": "code",
   "execution_count": 308,
   "metadata": {},
   "outputs": [],
   "source": [
    "tabela_irrel = serie_irrel.value_counts()"
   ]
  },
  {
   "cell_type": "code",
   "execution_count": 309,
   "metadata": {},
   "outputs": [],
   "source": [
    "tabela_rel_rel = serie_rel.value_counts(True)"
   ]
  },
  {
   "cell_type": "code",
   "execution_count": 310,
   "metadata": {},
   "outputs": [],
   "source": [
    "tabela_rel_irrel = serie_irrel.value_counts(True)"
   ]
  },
  {
   "cell_type": "code",
   "execution_count": 311,
   "metadata": {},
   "outputs": [],
   "source": [
    "#Somando Palavras Relevantes e Irrelevantes para criar um dicionário de palavras\n",
    "todas = texto_limpo_relevante + texto_limpo_irrelevante\n",
    "#Criando serie_total\n",
    "total_palavras = todas.split()\n",
    "serie_total = pd.Series(total_palavras)\n",
    "#Criando a tabela total de palavras\n",
    "tabela_total = serie_total.value_counts()"
   ]
  },
  {
   "cell_type": "code",
   "execution_count": 312,
   "metadata": {},
   "outputs": [
    {
     "name": "stdout",
     "output_type": "stream",
     "text": [
      "Procentagem da Tabela de Irrelevantes: 4257 e de Relevantes: 3195\n"
     ]
    }
   ],
   "source": [
    "print(\"Procentagem da Tabela de Irrelevantes: {0} e de Relevantes: {1}\".format(tabela_irrel.sum(),tabela_rel.sum()))"
   ]
  },
  {
   "cell_type": "markdown",
   "metadata": {},
   "source": [
    "Adicionando variáveis que representam a soma das tabelas irrel e rel:"
   ]
  },
  {
   "cell_type": "code",
   "execution_count": 313,
   "metadata": {},
   "outputs": [],
   "source": [
    "RelPal = tabela_rel.sum()\n"
   ]
  },
  {
   "cell_type": "code",
   "execution_count": 314,
   "metadata": {},
   "outputs": [],
   "source": [
    "IrrelPal = tabela_irrel.sum()"
   ]
  },
  {
   "cell_type": "code",
   "execution_count": 315,
   "metadata": {},
   "outputs": [],
   "source": [
    "TotalPal = tabela_total.sum()"
   ]
  },
  {
   "cell_type": "markdown",
   "metadata": {},
   "source": [
    "Descobrindo a Probabilidade de ser uma palavra Relevante e Irrelevante:"
   ]
  },
  {
   "cell_type": "code",
   "execution_count": 316,
   "metadata": {},
   "outputs": [
    {
     "name": "stdout",
     "output_type": "stream",
     "text": [
      "A probabilidade de uma palavra ser Irrelevante: 0.571256038647343\n"
     ]
    }
   ],
   "source": [
    "\n",
    "probI=IrrelPal/TotalPal\n",
    "print(\"A probabilidade de uma palavra ser Irrelevante: {0}\".format(probI))"
   ]
  },
  {
   "cell_type": "code",
   "execution_count": 317,
   "metadata": {},
   "outputs": [
    {
     "name": "stdout",
     "output_type": "stream",
     "text": [
      "A probabilidade de uma palavra ser Relevante: 0.428743961352657\n"
     ]
    }
   ],
   "source": [
    "probR=RelPal/TotalPal\n",
    "print(\"A probabilidade de uma palavra ser Relevante: {0}\".format(probR))"
   ]
  },
  {
   "cell_type": "code",
   "execution_count": 318,
   "metadata": {},
   "outputs": [],
   "source": [
    "lista_tabela_total = serie_total.tolist()\n",
    "nao_repetentes = set(lista_tabela_total)\n",
    "nao_repetentes = pd.DataFrame(nao_repetentes)"
   ]
  },
  {
   "cell_type": "code",
   "execution_count": 319,
   "metadata": {},
   "outputs": [
    {
     "data": {
      "text/plain": [
       "'gosto muito estou viciado abri geladeira'"
      ]
     },
     "execution_count": 319,
     "metadata": {},
     "output_type": "execute_result"
    }
   ],
   "source": [
    "Frase = \"gosto muito estou viciado abri geladeira\"\n",
    "Frase = cleanup(Frase).lower()\n",
    "Frase"
   ]
  },
  {
   "cell_type": "code",
   "execution_count": 320,
   "metadata": {},
   "outputs": [],
   "source": [
    "len_rel = len(tabela_rel)\n",
    "len_irrel = len(tabela_irrel)"
   ]
  },
  {
   "cell_type": "code",
   "execution_count": 321,
   "metadata": {},
   "outputs": [],
   "source": [
    "probfR = laplace(Frase, tabela_rel, tabela_irrel, nao_repetentes, len_rel, len_irrel)[0]\n",
    "probfIr = laplace(Frase, tabela_rel, tabela_irrel, nao_repetentes, len_rel, len_irrel)[1]\n",
    " \n",
    "pR = 1\n",
    "pIr = 1\n",
    "\n",
    "for e in range(len(probfR)):\n",
    "    pR = pR * probfR[e]\n",
    "    pIr = pIr * probfIr[e]"
   ]
  },
  {
   "cell_type": "code",
   "execution_count": 322,
   "metadata": {},
   "outputs": [
    {
     "name": "stdout",
     "output_type": "stream",
     "text": [
      "Relevante\n"
     ]
    }
   ],
   "source": [
    "if pR > pIr:\n",
    "    print(\"Relevante\")\n",
    "else:\n",
    "    print(\"Irrelevante\")"
   ]
  },
  {
   "cell_type": "markdown",
   "metadata": {},
   "source": [
    "___\n",
    "### Verificando a performance do Classificador\n",
    "\n",
    "Agora você deve testar o seu classificador com a base de Testes."
   ]
  },
  {
   "cell_type": "code",
   "execution_count": 331,
   "metadata": {},
   "outputs": [],
   "source": [
    "list_prob = []\n",
    "diver_rel = []\n",
    "Tweets = []\n",
    "for e in test[\"Teste\"]:\n",
    "    text_clean_test = cleanup(e).lower()\n",
    "    Tweets.append(text_clean_test)\n",
    "    \n",
    "List_Relevancia = []\n",
    "for Tweet in Tweets:\n",
    "    probfR2 = laplace(Tweet, tabela_rel, tabela_irrel, nao_repetentes, len_rel, len_irrel)[0]\n",
    "    probfIr2 = laplace(Tweet, tabela_rel, tabela_irrel, nao_repetentes, len_rel, len_irrel)[1]\n",
    "    pR2 = 1\n",
    "    pIr2 = 1\n",
    "    for e in range(len(probfR2)):\n",
    "        pR2 = pR2 * probfR2[e]\n",
    "        pIr2 = pIr2 * probfIr2[e]\n",
    "    if pR2 > pIr2:\n",
    "        list_prob.append(pR2)\n",
    "        List_Relevancia.append(1)\n",
    "        val = pIr2/pR2\n",
    "        if val > 0.6:\n",
    "            diver_rel.append(4)\n",
    "        elif val >0.3 and val <=0.6:\n",
    "            diver_rel.append(3)\n",
    "        elif val >0 and val <=0.3:\n",
    "            diver_rel.append(2)\n",
    "    else:\n",
    "        list_prob.append(pIr2)\n",
    "        List_Relevancia.append(0)\n",
    "        val = pR2/pIr2\n",
    "        if val > 0.6:\n",
    "            diver_rel.append(0)\n",
    "        elif val >0.3 and val <=0.6:\n",
    "            diver_rel.append(1)\n",
    "        elif val >0 and val <=0.3:\n",
    "            diver_rel.append(2)\n",
    "            \n",
    "\"\"\"\n",
    "Algo que extrema importância de citar é a variante \"Val\" criada para dividir ambas probabilidades\n",
    "Conseguindo assim criar um fundamento para a separação dos Tweets por Multiplas Relevâncias.\n",
    "\n",
    "O Val funciona de duas formas, sendo a primeira dela no caso de um Tweet ser considerado relevante,\n",
    "neste caso val representa a divisão da probabilidade desse tweet ser irrelevante pela probabilidade\n",
    "dele ser relevante, resultando em um número menor ou igual a 1 - mas nunca maior que 1.\n",
    "A segunda forma é parecida, e acontece quando um tweet é Irrelevante, havendo a mudança de divisores\n",
    "na divisão, para novamente a variavel não ultrapassar 1.\n",
    "\n",
    "Sendo assim Val representa, no primeiro caso, uma variante de relevacia que vai de 0-1, e no segundo caso\n",
    "uma variante de irrelevancia que vai de 0-1.\n",
    "\"\"\"\n",
    "\n",
    "test[\"Classificador\"] = List_Relevancia\n",
    "test[\"Probabilidade\"] = list_prob\n",
    "test[\"Multi_Classificação\"] = diver_rel"
   ]
  },
  {
   "cell_type": "markdown",
   "metadata": {},
   "source": [
    "Abaixo serão calculadas as porcentagens de verdadeiros/falsos positivos, e de verdadeiros/falsos negativos, junto com a acurácia. É importante resaltar que serão considerados relevancias de 0 e 1."
   ]
  },
  {
   "cell_type": "code",
   "execution_count": 332,
   "metadata": {},
   "outputs": [
    {
     "name": "stdout",
     "output_type": "stream",
     "text": [
      "Porcentagem de Verdadeiros Positivos: 33.77%\n",
      "Porcentagem de Falsos Positivos: 77.11%\n",
      "Porcentagem de Verdadeiros Negativos: 66.23%\n",
      "Porcentagem de Falsos Negativos: 22.89%\n",
      "Acurácia é de: 56.25%\n"
     ]
    }
   ],
   "source": [
    "Ver_Pos = 0\n",
    "Ver_Fal = 0\n",
    "Fal_Pos = 0\n",
    "Fal_Fal = 0\n",
    "Classificação = []\n",
    "total_clas = pd.Series(test[\"Classificação\"])\n",
    "for e in total_clas:\n",
    "    Classificação.append(e)\n",
    "for e in range(len(Classificação)):\n",
    "    if Classificação[e] == 1:\n",
    "        if Classificação[e] == List_Relevancia[e]:\n",
    "            Ver_Pos+=1\n",
    "        else:\n",
    "            Ver_Fal+=1\n",
    "    else:\n",
    "        if Classificação[e] == List_Relevancia[e]:\n",
    "            Fal_Pos+=1\n",
    "        else:\n",
    "            Fal_Fal+=1\n",
    "Total = Ver_Pos+Ver_Fal+Fal_Pos+Fal_Fal\n",
    "Total_Pos = Ver_Pos+Ver_Fal\n",
    "Total_Fal = Fal_Pos+Fal_Fal\n",
    "#Porcentagem de Verdadeiros Positivos\n",
    "print(\"Porcentagem de Verdadeiros Positivos: {0:.2f}%\".format((Ver_Pos/Total_Pos)*100))\n",
    "#Porcentagem de Falsos Positivos\n",
    "print(\"Porcentagem de Falsos Positivos: {0:.2f}%\".format((Fal_Pos/Total_Fal)*100))\n",
    "#Porcentagem de Verdadeiros Negativos\n",
    "print(\"Porcentagem de Verdadeiros Negativos: {0:.2f}%\".format((Ver_Fal/Total_Pos)*100))\n",
    "#Porcentagem de Falsos Negativos\n",
    "print(\"Porcentagem de Falsos Negativos: {0:.2f}%\".format((Fal_Fal/Total_Fal)*100))\n",
    "#Acurácia\n",
    "print(\"Acurácia é de: {0:.2f}%\".format((Ver_Pos+Fal_Pos)/Total*100))"
   ]
  },
  {
   "cell_type": "markdown",
   "metadata": {},
   "source": [
    "Abaixo serão calculadas as porcentagens de verdadeiros/falsos positivos e de verdadeiros/falsos negativos, junto com a acurácia. É importante resaltar que serão consideradas todas as multiplas relevâncias (Muito Relevante, Relevante, Neutro, Irrelevante, Muito Irrelevante)."
   ]
  },
  {
   "cell_type": "code",
   "execution_count": 339,
   "metadata": {},
   "outputs": [
    {
     "name": "stdout",
     "output_type": "stream",
     "text": [
      "Porcentagens: \n",
      "==============\n",
      "Muito Relevante\n",
      "Positivo: 23.08%\n",
      "Negativo: 76.92%\n",
      "====\n",
      "Relevante\n",
      "Positivo: 2.33%\n",
      "Negativo: 97.67%\n",
      "====\n",
      "Neutro\n",
      "Positivo: 80.49%\n",
      "Negativo: 19.51%\n",
      "====\n",
      "Irrelevante\n",
      "Positivo: 8.99%\n",
      "Negativo: 91.01%\n",
      "====\n",
      "Muito Irrelevante\n",
      "Positivo: 3.23%\n",
      "Negativo: 3.23%\n",
      "====\n",
      "Acurácia: 25.31%\n"
     ]
    }
   ],
   "source": [
    "MRel_Pos = 0\n",
    "MRel_Fal = 0\n",
    "\n",
    "Rel_Pos = 0\n",
    "Rel_Fal = 0\n",
    "\n",
    "Neu_Pos = 0\n",
    "Neu_Fal = 0\n",
    "\n",
    "IRel_Pos = 0\n",
    "IRel_Fal = 0\n",
    "\n",
    "MIRel_Pos = 0\n",
    "MIRel_Fal = 0\n",
    "\n",
    "Classificação2 = []\n",
    "total_clas = pd.Series(test[\"Classificação2\"])\n",
    "for e in total_clas:\n",
    "    Classificação2.append(e)\n",
    "for e in range(len(Classificação2)):\n",
    "    if Classificação2[e] == 0:\n",
    "        if Classificação2[e] == diver_rel[e]:\n",
    "            MIRel_Pos+=1\n",
    "        else:\n",
    "            MIRel_Fal+=1\n",
    "    elif Classificação2[e] == 1:\n",
    "        if Classificação2[e] == diver_rel[e]:\n",
    "            IRel_Pos+=1\n",
    "        else:\n",
    "            IRel_Fal+=1\n",
    "    elif Classificação2[e] == 2:\n",
    "        if Classificação2[e] == diver_rel[e]:\n",
    "            Neu_Pos+=1\n",
    "        else:\n",
    "            Neu_Fal+=1\n",
    "    elif Classificação2[e] == 3:\n",
    "        if Classificação2[e] == diver_rel[e]:\n",
    "            Rel_Pos+=1\n",
    "        else:\n",
    "            Rel_Fal+=1\n",
    "    elif Classificação2[e] == 4:\n",
    "        if Classificação2[e] == diver_rel[e]:\n",
    "            MRel_Pos+=1\n",
    "        else:\n",
    "            MRel_Fal+=1\n",
    "Total = MRel_Pos + MRel_Fal + Rel_Pos + Rel_Fal + Neu_Pos + Neu_Fal + IRel_Pos + IRel_Fal + MIRel_Pos + MIRel_Fal\n",
    "T_MRel = MRel_Pos + MRel_Fal\n",
    "T_Rel = Rel_Pos + Rel_Fal\n",
    "T_Neu = Neu_Pos + Neu_Fal\n",
    "T_IRel = IRel_Pos + IRel_Fal\n",
    "T_MIRel = MIRel_Pos + MIRel_Fal\n",
    "\n",
    "print(\"Porcentagens: \")\n",
    "print(\"==============\")\n",
    "print(\"Muito Relevante\")\n",
    "print(\"Positivo: {0:.2f}%\".format(MRel_Pos/T_MRel*100))\n",
    "print(\"Negativo: {0:.2f}%\".format(MRel_Fal/T_MRel*100))\n",
    "print(\"====\")\n",
    "print(\"Relevante\")\n",
    "print(\"Positivo: {0:.2f}%\".format(Rel_Pos/T_Rel*100))\n",
    "print(\"Negativo: {0:.2f}%\".format(Rel_Fal/T_Rel*100))\n",
    "print(\"====\")\n",
    "print(\"Neutro\")\n",
    "print(\"Positivo: {0:.2f}%\".format(Neu_Pos/T_Neu*100))\n",
    "print(\"Negativo: {0:.2f}%\".format(Neu_Fal/T_Neu*100))\n",
    "print(\"====\")\n",
    "print(\"Irrelevante\")\n",
    "print(\"Positivo: {0:.2f}%\".format(IRel_Pos/T_IRel*100))\n",
    "print(\"Negativo: {0:.2f}%\".format(IRel_Fal/T_IRel*100))\n",
    "print(\"====\")\n",
    "print(\"Muito Irrelevante\")\n",
    "print(\"Positivo: {0:.2f}%\".format(MIRel_Pos/T_MIRel*100))\n",
    "print(\"Negativo: {0:.2f}%\".format(MIRel_Pos/T_MIRel*100))\n",
    "print(\"====\")\n",
    "print(\"Acurácia: {0:.2f}%\".format((MRel_Pos+Rel_Pos+Neu_Pos+IRel_Pos+MIRel_Pos)/Total*100))"
   ]
  },
  {
   "cell_type": "markdown",
   "metadata": {},
   "source": [
    "___\n",
    "### Concluindo"
   ]
  },
  {
   "cell_type": "markdown",
   "metadata": {},
   "source": [
    "#### Explique como são tratadas as mensagens com dupla negação e sarcasmo.\n",
    "\n",
    "O classificador utilizamos apresenta um problema na hora de identificar casos de dupla negação sarcasmo. Isso ocorre pois no sistema utilizado, todas as palavras são verificadas e contabilizadas, porém não é possível se descobrir a forma no qual foi dita. Isso faz com que em grande parte dos casos, as mensagens que contêm sarcasmo ou dupla negação, acabem por ser colocadas como “Relevantes”, pois tem uma estrutura semântica muito semelhante ao dos exemplos que fornecemos em nosso Dataframe.\n"
   ]
  },
  {
   "cell_type": "markdown",
   "metadata": {},
   "source": [
    "#### Proponha um plano de expansão. Por que eles devem continuar financiando seu projeto?\n",
    "\n",
    "Uma vez que conseguimos realizar tal projeto com um considerável nível de acerto utilizando apenas técnicas mais simples, com um maior tempo e recurso, seria possível utilização de táticas mais precisas, logo, aumentaria também o índice de acerto. Sendo assim, um financiamento maior em nosso projeto é uma garantia de uma ferramenta mais elaborada e precisa.  \n"
   ]
  },
  {
   "cell_type": "markdown",
   "metadata": {},
   "source": [
    "#### Por que não posso alimentar minha base de Treinamento automaticamente usando o próprio classificador, aplicado a novos tweets?\n",
    "\n",
    "Uma vez que construímos o nosso classificador, não é correto alimentar a nossa base de treinamento com o nosso próprio classificador, mas sim precisamos usar novos tweets. Isso ocorre, pois uma vez que utilizamos os mesmos, isso acabaria tendenciando o classificador, logo ele desvincularia de seu proposito original.\n"
   ]
  },
  {
   "cell_type": "markdown",
   "metadata": {},
   "source": [
    "#### Propor diferentes cenários de uso para o classificador Naive-Bayes. Pense em outros cenários sem intersecção com este projeto.\n",
    "\n",
    "Existem diversos usos possíveis para o uso desse tipo de classificador, o mais famoso é a divisão entre “spam” e “não spam” quando vemos nosso e-mail. Além desse caso, existem diversos outros ao qual podemos perceber o uso desse artificio, como por exemplo sugerir propagandas em plataformas como o youtube tendo em vista conteúdos consumidos anteriormente pelo usuário. Em casos mais complexos, pode inclusive ajudar na medicina, ao qual eles podem prever diversas doenças.\n"
   ]
  },
  {
   "cell_type": "markdown",
   "metadata": {},
   "source": [
    "#### Sugerir e explicar melhorias reais no classificador com indicações concretas de como implementar (não é preciso codificar, mas indicar como fazer. Indique material de pesquisa sobre o assunto).\n"
   ]
  },
  {
   "cell_type": "code",
   "execution_count": null,
   "metadata": {},
   "outputs": [],
   "source": []
  },
  {
   "cell_type": "code",
   "execution_count": null,
   "metadata": {},
   "outputs": [],
   "source": []
  },
  {
   "cell_type": "markdown",
   "metadata": {},
   "source": [
    "___\n",
    "### Qualidade do Classificador a partir de novas separações dos tweets entre Treinamento e Teste\n",
    "\n",
    "Caso for fazer esse item do Projeto"
   ]
  },
  {
   "cell_type": "code",
   "execution_count": 164,
   "metadata": {},
   "outputs": [
    {
     "data": {
      "text/html": [
       "<div>\n",
       "<style scoped>\n",
       "    .dataframe tbody tr th:only-of-type {\n",
       "        vertical-align: middle;\n",
       "    }\n",
       "\n",
       "    .dataframe tbody tr th {\n",
       "        vertical-align: top;\n",
       "    }\n",
       "\n",
       "    .dataframe thead th {\n",
       "        text-align: right;\n",
       "    }\n",
       "</style>\n",
       "<table border=\"1\" class=\"dataframe\">\n",
       "  <thead>\n",
       "    <tr style=\"text-align: right;\">\n",
       "      <th></th>\n",
       "      <th>Tweets</th>\n",
       "      <th>Classificação</th>\n",
       "    </tr>\n",
       "  </thead>\n",
       "  <tbody>\n",
       "    <tr>\n",
       "      <th>0</th>\n",
       "      <td>a medica passou lactobacilos pra vc tomar d...</td>\n",
       "      <td>1.0</td>\n",
       "    </tr>\n",
       "    <tr>\n",
       "      <th>1</th>\n",
       "      <td>alguem compra yakult pra mim por deus</td>\n",
       "      <td>0.0</td>\n",
       "    </tr>\n",
       "    <tr>\n",
       "      <th>2</th>\n",
       "      <td>amanha vou fa er aquele drink de morango  ...</td>\n",
       "      <td>0.0</td>\n",
       "    </tr>\n",
       "    <tr>\n",
       "      <th>3</th>\n",
       "      <td>tomando um yakult no meio da rua 💪</td>\n",
       "      <td>1.0</td>\n",
       "    </tr>\n",
       "    <tr>\n",
       "      <th>4</th>\n",
       "      <td>horas e estou sobrevivendo com    meio ...</td>\n",
       "      <td>1.0</td>\n",
       "    </tr>\n",
       "    <tr>\n",
       "      <th>...</th>\n",
       "      <td>...</td>\n",
       "      <td>...</td>\n",
       "    </tr>\n",
       "    <tr>\n",
       "      <th>814</th>\n",
       "      <td>da manha eu e belle tomando yakult e comend...</td>\n",
       "      <td>1.0</td>\n",
       "    </tr>\n",
       "    <tr>\n",
       "      <th>815</th>\n",
       "      <td>nao falei nada ai vem uma chata me responder ...</td>\n",
       "      <td>1.0</td>\n",
       "    </tr>\n",
       "    <tr>\n",
       "      <th>816</th>\n",
       "      <td>conseguiu sua merda</td>\n",
       "      <td>0.0</td>\n",
       "    </tr>\n",
       "    <tr>\n",
       "      <th>817</th>\n",
       "      <td>falei pro meu irmao q tava doentinha  pedi pr...</td>\n",
       "      <td>1.0</td>\n",
       "    </tr>\n",
       "    <tr>\n",
       "      <th>818</th>\n",
       "      <td>ja se envolve sabendo que se nao me der yakul...</td>\n",
       "      <td>1.0</td>\n",
       "    </tr>\n",
       "  </tbody>\n",
       "</table>\n",
       "<p>819 rows × 2 columns</p>\n",
       "</div>"
      ],
      "text/plain": [
       "                                                Tweets  Classificação\n",
       "0       a medica passou lactobacilos pra vc tomar d...            1.0\n",
       "1              alguem compra yakult pra mim por deus              0.0\n",
       "2        amanha vou fa er aquele drink de morango  ...            0.0\n",
       "3                 tomando um yakult no meio da rua 💪              1.0\n",
       "4           horas e estou sobrevivendo com    meio ...            1.0\n",
       "..                                                 ...            ...\n",
       "814     da manha eu e belle tomando yakult e comend...            1.0\n",
       "815   nao falei nada ai vem uma chata me responder ...            1.0\n",
       "816                                conseguiu sua merda            0.0\n",
       "817   falei pro meu irmao q tava doentinha  pedi pr...            1.0\n",
       "818   ja se envolve sabendo que se nao me der yakul...            1.0\n",
       "\n",
       "[819 rows x 2 columns]"
      ]
     },
     "execution_count": 164,
     "metadata": {},
     "output_type": "execute_result"
    }
   ],
   "source": [
    "#Junta Duas pd.Series = Cria um Novo DataFrame\n",
    "    #Embaralhar de Forma Aleatoria novo DataFrame\n",
    "    #Pega Conjunto de 300 Primeiros e usa Como treinamento\n",
    "    #Pega Conjunto de 200 Depois e Usa como Teste\n",
    "    \n",
    "#Criar Listas para guardar Dados (PositivosFalsoAcurácia)\n",
    "\n",
    "Dados_PosPos = []\n",
    "Dados_PosFal = []\n",
    "Dados_FalPos = []\n",
    "Dados_FalFal = []\n",
    "Dados_Acurac = []\n",
    "\n",
    "Lista_Total_Classificação = []\n",
    "Lista_Total_Tweets = []\n",
    "for e in train[\"Classificação\"]:\n",
    "    Lista_Total_Classificação.append(e)\n",
    "for e in train[\"Treinamento\"]:\n",
    "    Lista_Total_Tweets.append(e)\n",
    "for e in test[\"Classificação\"]:\n",
    "    Lista_Total_Classificação.append(e)\n",
    "for e in test[\"Teste\"]:\n",
    "    Lista_Total_Tweets.append(e)\n",
    "    \n",
    "DataFrame = pd.DataFrame()\n",
    "DataFrame[\"Tweets\"] = Lista_Total_Tweets\n",
    "DataFrame [\"Classificação\"] = Lista_Total_Classificação\n",
    "DataFrame[\"Tweets\"] = DataFrame[\"Tweets\"].astype(object)\n",
    "lista_ = []\n",
    "for e in DataFrame[\"Tweets\"]:\n",
    "    lista_.append(cleanup(e))\n",
    "DataFrame[\"Tweets\"]=lista_\n",
    "DataFrame"
   ]
  },
  {
   "cell_type": "code",
   "execution_count": null,
   "metadata": {},
   "outputs": [],
   "source": []
  },
  {
   "cell_type": "code",
   "execution_count": 384,
   "metadata": {},
   "outputs": [],
   "source": [
    "Lista_Verdadeiros_Positivos = []\n",
    "Lista_Verdadeiros_Negativos = []\n",
    "Lista_Falsos_Positivos = []\n",
    "Lista_Falsos_Negativos = []\n",
    "Lista_Acuracia = []\n",
    "\n",
    "for e in range(0,2):\n",
    "    #Shuffle\n",
    "    DataFrame_Shuffle = DataFrame.sample(frac=1)\n",
    "    #Listas\n",
    "    Treinamento_Tweets = []\n",
    "    Teste_Tweets = []\n",
    "    Treinamento_Class = []\n",
    "    Teste_Class = []\n",
    "    List_Prob3 = []\n",
    "    List_Relevancia3 = []\n",
    "    for i in range(0,500):\n",
    "        Treinamento_Tweets.append(DataFrame[\"Tweets\"][i])\n",
    "        Treinamento_Class.append(DataFrame[\"Classificação\"][i])\n",
    "    for i in range(500,819):\n",
    "        Teste_Tweets.append(DataFrame[\"Tweets\"][i])\n",
    "        Teste_Class.append(DataFrame[\"Classificação\"][i])\n",
    "    #DataFrame para treinamento\n",
    "    DT = pd.DataFrame()\n",
    "    DT[\"Tweets\"] = Treinamento_Tweets\n",
    "    DT[\"Classificação\"] = Treinamento_Class\n",
    "    Relevantes = DT.loc[DT[\"Classificação\"]==1,\"Tweets\"]\n",
    "    Texto_Relevantes = \" \".join(Relevantes)\n",
    "    Serie_Rel = pd.Series(Texto_Relevantes)\n",
    "    IRelevantes = DT.loc[DT[\"Classificação\"]==0,\"Tweets\"]\n",
    "    Texto_IRelevantes = \" \".join(IRelevantes)\n",
    "    Serie_IRel = pd.Series(Texto_IRelevantes)\n",
    "        #Split()\n",
    "    spl_Rel = Texto_Relevantes.split()\n",
    "    spl_IRel = Texto_IRelevantes.split()\n",
    "        #Criando Tabelas\n",
    "    Tabela_Rel = Serie_Rel.value_counts()\n",
    "    Tabela_Irrel = Serie_IRel.value_counts()\n",
    "       #Criando Total\n",
    "    Todas = spl_Rel+spl_IRel\n",
    "    Serie_Total = pd.Series(Todas)\n",
    "    Tabela_Total = Serie_Total.value_counts()\n",
    "    Lista_Tabela_Total = Serie_Total.tolist()\n",
    "    Nao_Repete = set(Lista_Tabela_Total)\n",
    "    Nao_Repete = pd.DataFrame(Nao_Repete)\n",
    "        #Definindo Len\n",
    "    Len_Rel = len(tabela_rel)\n",
    "    Len_Irrel = len(tabela_irrel)\n",
    "    #DataFrame para Teste\n",
    "    DT2 = pd.DataFrame()\n",
    "    DT2[\"Tweets\"] = Teste_Tweets\n",
    "    DT2[\"Classifição\"] = Teste_Class\n",
    "        #LapLace\n",
    "    for Tweet in Teste_Tweets:\n",
    "        probfR3 = laplace (Tweet, Tabela_Rel, Tabela_Irrel, Nao_Repete, Len_Rel, Len_Irrel)[0]\n",
    "        probfIr3 = laplace (Tweet, Tabela_Rel, Tabela_Irrel, Nao_Repete, Len_Rel, Len_Irrel)[1]\n",
    "        pR3 = 1\n",
    "        pIr3 = 1\n",
    "        for e in range(len(probfR3)):\n",
    "            pR3 = pR3 * probfR3[e]\n",
    "            pIr3 = pIr3 * probfIr3[e]\n",
    "        if pR3 > pIr3:\n",
    "            List_Prob3.append(pR3)\n",
    "            List_Relevancia3.append(1)\n",
    "        else:\n",
    "            print(\"Humberto é corno\")\n",
    "            List_Prob3.append(pIr3)\n",
    "            List_Relevancia3.append(0)\n",
    "    Ver_Pos3 = 0\n",
    "    Ver_Fal3 = 0\n",
    "    Fal_Pos3 = 0\n",
    "    Fal_Fal3 = 0\n",
    "    Classificação3 = []\n",
    "    total_clas3 = pd.Series(DT2[\"Classifição\"])\n",
    "    for e in total_clas3:\n",
    "        Classificação3.append(e)\n",
    "    for e in range(len(Classificação3)):\n",
    "        if Classificação3[e] == 1:\n",
    "            if Classificação3[e] == List_Relevancia3[e]:\n",
    "                Ver_Pos3+=1\n",
    "            else:\n",
    "                Ver_Fal3+=1\n",
    "        else:\n",
    "            if Classificação3[e] == List_Relevancia3[e]:\n",
    "                Fal_Pos3+=1\n",
    "            else:\n",
    "                Fal_Fal3+=1\n",
    "    Total3 = Ver_Pos3+Ver_Fal3+Fal_Pos3+Fal_Fal3\n",
    "    Total_Pos3 = Ver_Pos3+Ver_Fal3\n",
    "    Total_Fal3 = Fal_Pos3+Fal_Fal3\n",
    "    Lista_Verdadeiros_Positivos.append(Ver_Pos3/Total_Pos3*100)\n",
    "    Lista_Verdadeiros_Negativos.append(Fal_Pos/Total_Fal*100)\n",
    "    Lista_Falsos_Positivos.append(Ver_Fal/Total_Pos*100)\n",
    "    Lista_Falsos_Negativos.append(Fal_Fal/Total_Fal*100)\n",
    "    Lista_Acuracia.append((Ver_Pos+Fal_Pos)/Total*100)\n",
    "    \n",
    "    \n"
   ]
  },
  {
   "cell_type": "code",
   "execution_count": null,
   "metadata": {},
   "outputs": [],
   "source": [
    "#Shuffle\n",
    "DataFrame_Shuffle = DataFrame.sample(frac=1)\n",
    "#Listas\n",
    "Treinamento_Tweets = []\n",
    "Teste_Tweets = []\n",
    "Treinamento_Class = []\n",
    "Teste_Class = []\n",
    "List_Prob3 = []\n",
    "List_Relevancia3 = []\n",
    "for i in range(0,500):\n",
    "    Treinamento_Tweets.append(DataFrame[\"Tweets\"][i])\n",
    "    Treinamento_Class.append(DataFrame[\"Classificação\"][i])\n",
    "for i in range(500,819):\n",
    "    Teste_Tweets.append(DataFrame[\"Tweets\"][i])\n",
    "    Teste_Class.append(DataFrame[\"Classificação\"][i])\n",
    "    \n",
    "DT3 = pd.DataFrame()\n",
    "DT3[\"Treinamento\"] = Treinamento_Tweets\n"
   ]
  },
  {
   "cell_type": "code",
   "execution_count": 385,
   "metadata": {},
   "outputs": [
    {
     "data": {
      "text/plain": [
       "[100.0, 100.0]"
      ]
     },
     "execution_count": 385,
     "metadata": {},
     "output_type": "execute_result"
    }
   ],
   "source": [
    "Lista_Verdadeiros_Positivos"
   ]
  },
  {
   "cell_type": "code",
   "execution_count": 364,
   "metadata": {},
   "outputs": [
    {
     "ename": "IndentationError",
     "evalue": "unexpected indent (<ipython-input-364-c9c33c6e6675>, line 2)",
     "output_type": "error",
     "traceback": [
      "\u001b[0;36m  File \u001b[0;32m\"<ipython-input-364-c9c33c6e6675>\"\u001b[0;36m, line \u001b[0;32m2\u001b[0m\n\u001b[0;31m    DT2 = pd.DataFrame()\u001b[0m\n\u001b[0m    ^\u001b[0m\n\u001b[0;31mIndentationError\u001b[0m\u001b[0;31m:\u001b[0m unexpected indent\n"
     ]
    }
   ],
   "source": [
    " #DataFrame para Teste\n",
    "    DT2 = pd.DataFrame()\n",
    "    DT2[\"Tweets\"] = Teste_Tweets\n",
    "    DT2[\"Classifição\"] = Teste_Class\n",
    "    TRelevantes = DT2.loc[DT2[\"Classificação\"]==1,\"Tweets\"]\n",
    "    TIRelevantes = DT2.loc[DT2[\"Classificação\"]==0,\"Tweets\"]"
   ]
  },
  {
   "cell_type": "markdown",
   "metadata": {},
   "source": [
    "___\n",
    "## Aperfeiçoamento:\n",
    "\n",
    "Trabalhos que conseguirem pelo menos conceito B vão evoluir em conceito dependendo da quantidade de itens avançados:\n",
    "\n",
    "* IMPLEMENTOU outras limpezas e transformações que não afetem a qualidade da informação contida nos tweets. Ex: stemming, lemmatization, stopwords\n",
    "* CORRIGIU separação de espaços entre palavras e emojis ou entre emojis e emojis\n",
    "* CRIOU categorias intermediárias de relevância baseadas na probabilidade: ex.: muito relevante, relevante, neutro, irrelevante, muito irrelevante. Pelo menos quatro categorias, com adição de mais tweets na base, conforme enunciado. (OBRIGATÓRIO PARA TRIOS, sem contar como item avançado)\n",
    "* EXPLICOU porquê não pode usar o próprio classificador para gerar mais amostras de treinamento\n",
    "* PROPÔS diferentes cenários para Naïve Bayes fora do contexto do projeto\n",
    "* SUGERIU e EXPLICOU melhorias reais com indicações concretas de como implementar (indicar como fazer e indicar material de pesquisa)\n",
    "* FEZ o item 6. Qualidade do Classificador a partir de novas separações dos tweets entre Treinamento e Teste descrito no enunciado do projeto (OBRIGATÓRIO para conceitos A ou A+)"
   ]
  },
  {
   "cell_type": "markdown",
   "metadata": {},
   "source": [
    "___\n",
    "## Referências"
   ]
  },
  {
   "cell_type": "markdown",
   "metadata": {},
   "source": [
    "[Naive Bayes and Text Classification](https://arxiv.org/pdf/1410.5329.pdf)  **Mais completo**\n",
    "\n",
    "[A practical explanation of a Naive Bayes Classifier](https://monkeylearn.com/blog/practical-explanation-naive-bayes-classifier/) **Mais simples**"
   ]
  },
  {
   "cell_type": "code",
   "execution_count": null,
   "metadata": {},
   "outputs": [],
   "source": []
  }
 ],
 "metadata": {
  "kernelspec": {
   "display_name": "Python 3",
   "language": "python",
   "name": "python3"
  },
  "language_info": {
   "codemirror_mode": {
    "name": "ipython",
    "version": 3
   },
   "file_extension": ".py",
   "mimetype": "text/x-python",
   "name": "python",
   "nbconvert_exporter": "python",
   "pygments_lexer": "ipython3",
   "version": "3.8.5"
  }
 },
 "nbformat": 4,
 "nbformat_minor": 4
}
